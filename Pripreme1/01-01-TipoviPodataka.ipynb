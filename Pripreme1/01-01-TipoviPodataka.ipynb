{
 "cells": [
  {
   "cell_type": "markdown",
   "id": "c49f8746",
   "metadata": {},
   "source": [
    "# 1.1 Tipovi podataka u Pythonu"
   ]
  },
  {
   "cell_type": "markdown",
   "id": "b12d974e",
   "metadata": {},
   "source": [
    "U Pythonu postoji nekoliko osnovnih tipova podataka. Iako ih ne moramo navoditi kad definiramo varijablu, svejedno je bitno znati nešto o njima.\n",
    "\n",
    "Ugrađeni tipovi podataka u Pythonu su:\n",
    "\n",
    "- tekstualni tip - `str`\n",
    "- brojčani tipovi - `int`, `float`, `complex`\n",
    "- nizovni tipovi - `list`, `tuple`, `range`\n",
    "- mapirajući tip - `dict`\n",
    "- skupovni tipovi - `set`, `frozenset`\n",
    "- boolean tip - `bool`\n",
    "- binarni tipovi - `bytes`, `bytearray`, `memoryview`\n",
    "\n",
    "U ovom poglavlju proći ćemo kroz tekstualni tip, brojčane tipove i boolean, a zatim i kroz nizovne tipove, mapirajući tip i skupovni tip `set`."
   ]
  },
  {
   "cell_type": "markdown",
   "id": "c3db9765",
   "metadata": {},
   "source": [
    "### Tekstualni tip"
   ]
  },
  {
   "cell_type": "markdown",
   "id": "faf196f0",
   "metadata": {},
   "source": [
    "Tekstualni tip su tzv. stringovi, odnosno nizovi znakova. Definiramo ih unutar navodnika ili apostrofa."
   ]
  },
  {
   "cell_type": "code",
   "execution_count": 99,
   "id": "4775ff92",
   "metadata": {},
   "outputs": [
    {
     "name": "stdout",
     "output_type": "stream",
     "text": [
      "Pozdrav!\n",
      "Zivjeli!\n"
     ]
    }
   ],
   "source": [
    "my_str_1 = \"Pozdrav!\"\n",
    "my_str_2 = 'Zivjeli!'\n",
    "print(my_str_1)\n",
    "print(my_str_2)"
   ]
  },
  {
   "cell_type": "markdown",
   "id": "b7b0135d",
   "metadata": {},
   "source": [
    "Prilikom čitanja podataka sa standardnog ulaza naredbom `input()`, čitamo tip podataka `str`. Korištenjem ugrađene funkcije `type()` možemo provjeriti tip nekog podatka."
   ]
  },
  {
   "cell_type": "code",
   "execution_count": 100,
   "id": "698a7c48",
   "metadata": {},
   "outputs": [
    {
     "name": "stdout",
     "output_type": "stream",
     "text": [
      "ABCDE\n"
     ]
    }
   ],
   "source": [
    "my_input_str = input()"
   ]
  },
  {
   "cell_type": "code",
   "execution_count": 101,
   "id": "500ce6f0",
   "metadata": {},
   "outputs": [
    {
     "name": "stdout",
     "output_type": "stream",
     "text": [
      "1620\n"
     ]
    }
   ],
   "source": [
    "my_input_num = input()"
   ]
  },
  {
   "cell_type": "code",
   "execution_count": 102,
   "id": "f8c1166c",
   "metadata": {},
   "outputs": [
    {
     "name": "stdout",
     "output_type": "stream",
     "text": [
      "<class 'str'>\n",
      "<class 'str'>\n"
     ]
    }
   ],
   "source": [
    "print(type(my_input_str))\n",
    "print(type(my_input_num))"
   ]
  },
  {
   "cell_type": "markdown",
   "id": "f148d8ae",
   "metadata": {},
   "source": [
    "Vidimo da je, iako smo upisali broj, njegov tip svejedno `str`. Pokušamo li podijeliti `my_input_num` s $2$, dobit ćemo grešku:"
   ]
  },
  {
   "cell_type": "code",
   "execution_count": 103,
   "id": "ba465120",
   "metadata": {},
   "outputs": [
    {
     "ename": "TypeError",
     "evalue": "unsupported operand type(s) for /: 'str' and 'int'",
     "output_type": "error",
     "traceback": [
      "\u001b[0;31m---------------------------------------------------------------------------\u001b[0m",
      "\u001b[0;31mTypeError\u001b[0m                                 Traceback (most recent call last)",
      "\u001b[0;32m/tmp/ipykernel_263731/752051629.py\u001b[0m in \u001b[0;36m<module>\u001b[0;34m\u001b[0m\n\u001b[0;32m----> 1\u001b[0;31m \u001b[0mprint\u001b[0m\u001b[0;34m(\u001b[0m\u001b[0mmy_input_num\u001b[0m \u001b[0;34m/\u001b[0m \u001b[0;36m2\u001b[0m\u001b[0;34m)\u001b[0m\u001b[0;34m\u001b[0m\u001b[0;34m\u001b[0m\u001b[0m\n\u001b[0m",
      "\u001b[0;31mTypeError\u001b[0m: unsupported operand type(s) for /: 'str' and 'int'"
     ]
    }
   ],
   "source": [
    "print(my_input_num / 2)"
   ]
  },
  {
   "cell_type": "markdown",
   "id": "b3edc61d",
   "metadata": {},
   "source": [
    "Neke od operacija nad stringovima koje ćete često koristiti su:\n",
    "\n",
    "- provjera duljine stringa (`int`)\n",
    "- `lower()` i `upper()` - malo i veliko slovo\n",
    "- `ord()`- vraća ascii vrijednost znaka (`int`)\n",
    "- `chr()` - vraća znak za zadanu ascii vrijednost\n",
    "- usporedba leksikografskog poretka stringova\n",
    "- pristup pojedinim znakovima \n",
    "- traženje podnizova\n",
    "- `split()` podjela stringa na listu manjih stringova (`list`)\n",
    "- povezivanje više stringova u jedan\n",
    "\n",
    "Također, bitno je i znati za tzv. *escape* znakove, poput:\n",
    "\n",
    "- prelaska u novi red - `\\n`\n",
    "- tabulatora - `\\t`\n",
    "- apostrofa - `\\'`\n",
    "- *backslash* - `\\\\`\n",
    "\n",
    "Ako želimo koristiti neki drugi tip podataka kao string, moramo ga pretvoriti u string funkcijom `str()`."
   ]
  },
  {
   "cell_type": "code",
   "execution_count": 104,
   "id": "0dbc8373",
   "metadata": {},
   "outputs": [
    {
     "name": "stdout",
     "output_type": "stream",
     "text": [
      "len: 11\n",
      "lower: dobro jutro\n",
      "upper: DOBRO JUTRO\n",
      "ord: 97\n",
      "chr: a\n",
      "leks. usporedba: True\n",
      "jedn. usporedba: False\n",
      "pristup znaku: D\n",
      "pristup podnizu: noc\n",
      "podjela po razmacima: ['Dobro', 'jutro']\n",
      "povezivanje vise stringova: Dobro jutro i Laku noc\n"
     ]
    }
   ],
   "source": [
    "my_test_str_1 = 'Dobro jutro'\n",
    "my_test_str_2 = 'Laku noc'\n",
    "\n",
    "print(\"len:\", len(my_test_str_1))\n",
    "print(\"lower:\", my_test_str_1.lower())\n",
    "print(\"upper:\", my_test_str_1.upper())\n",
    "\n",
    "print(\"ord:\", ord('a'))\n",
    "print(\"chr:\", chr(97)) # 97 je 'a', 98 je 'b' itd.\n",
    "\n",
    "print(\"leks. usporedba:\", my_test_str_1 < my_test_str_2)\n",
    "print(\"jedn. usporedba:\", my_test_str_1 == my_test_str_2)\n",
    "\n",
    "print(\"pristup znaku:\", my_test_str_1[0])\n",
    "print(\"pristup podnizu:\", my_test_str_2[5:8]) # znak 8 nije ukljucen\n",
    "\n",
    "print(\"podjela po razmacima:\", my_test_str_1.split())\n",
    "print(\"povezivanje vise stringova:\", my_test_str_1 + \" i \" + my_test_str_2)"
   ]
  },
  {
   "cell_type": "markdown",
   "id": "ce76b59f",
   "metadata": {},
   "source": [
    "*Nota bene*: Nema smisla učiti sve ove stvari napamet, ali je bitno znati koje stvari postoje. Ako koristite neki \"pametniji\" uređivač teksta koji nudi *autocomplete* programskog koda, npr. Visual Studio Code ili PyCharm, on će vam puno olakšati i ubrzati posao."
   ]
  },
  {
   "cell_type": "markdown",
   "id": "157349b3",
   "metadata": {},
   "source": [
    "### Brojčani tipovi"
   ]
  },
  {
   "cell_type": "markdown",
   "id": "d6e61880",
   "metadata": {},
   "source": [
    "Brojčani tipovi u Pythonu su `int` - cijeli brojevi, `float` - brojevi s točkom i `complex` - [kompleksni brojevi](https://hr.wikipedia.org/wiki/Kompleksni_broj). U ovom poglavlju obradit ćemo `int` i `float`, a `complex` ćemo ostaviti za neki drugi put.\n",
    "\n",
    "U sljedećem isječku koda možete vidjeti neke osnovne operacije s brojčanim tipovima."
   ]
  },
  {
   "cell_type": "code",
   "execution_count": 105,
   "id": "c8daf89f",
   "metadata": {},
   "outputs": [
    {
     "name": "stdout",
     "output_type": "stream",
     "text": [
      "x: 7\n",
      "y: 3.14\n",
      "\n",
      "tip varijable x: <class 'int'>\n",
      "tip varijable y: <class 'float'>\n",
      "\n",
      "zbrajanje: 10.14\n",
      "mnozenje: 21.98\n",
      "dijeljenje: 2.3333333333333335\n",
      "cjelobrojno dijeljenje: 2\n",
      "ostatak pri cj. dijeljenju: 1\n",
      "potenciranje: 450.4098148671133\n",
      "usporedba: False\n",
      "\n",
      "pretvorba iz float u int: 3\n",
      "pretvorba iz int u float: 7.0\n"
     ]
    }
   ],
   "source": [
    "x = 7\n",
    "y = 3.14\n",
    "\n",
    "print(\"x:\", x)\n",
    "print(\"y:\", y)\n",
    "\n",
    "print(\"\")\n",
    "print(\"tip varijable x:\", type(x))\n",
    "print(\"tip varijable y:\", type(y))\n",
    "\n",
    "print(\"\")\n",
    "print(\"zbrajanje:\", x + y)\n",
    "print(\"mnozenje:\", x * y)\n",
    "print(\"dijeljenje:\", x / 3)\n",
    "print(\"cjelobrojno dijeljenje:\", x // 3)\n",
    "print(\"ostatak pri cj. dijeljenju:\", x % 3)\n",
    "print(\"potenciranje:\", x ** y)\n",
    "print(\"usporedba:\", x < y)\n",
    "\n",
    "print(\"\")\n",
    "print(\"pretvorba iz float u int:\", int(y))\n",
    "print(\"pretvorba iz int u float:\", float(x))\n"
   ]
  },
  {
   "cell_type": "markdown",
   "id": "27925388",
   "metadata": {},
   "source": [
    "Primijetite da dijeljenje nije baš skroz točno - računala imaju problema sa zapisom nekih brojeva, slično kao i ljudi, npr. mi ne možemo zapisati broj $\\frac{1}{3}$ s konačnim brojem dekadskih znamenki, a računalo u memoriji ne može dosta brojeva napisati s konačnim brojem binarnih znamenki. Više o tome možete pročitati [ovdje](https://www.geeksforgeeks.org/floating-point-error-in-python/)."
   ]
  },
  {
   "cell_type": "markdown",
   "id": "148b8692",
   "metadata": {},
   "source": [
    "### Boolean tip"
   ]
  },
  {
   "cell_type": "markdown",
   "id": "ae6b1d28",
   "metadata": {},
   "source": [
    "Sljedeći tip koji ćemo proučiti je `bool` tip. Varijable tog tipa mogu poprimiti dvije vrijednosti - `True` ili `False`, a koriste se kako bismo upravljali tokom programa (npr. u `if` izrazima. Operatori uspoređivanja (npr. `<`, `>=`, `==`) rezultiraju boolean vrijednošću, neke funkcije vraćaju boolean vrijednost, a možemo i *castati* bilo koji drugi tip u boolean, iako često nije dobro to raditi.\n"
   ]
  },
  {
   "cell_type": "code",
   "execution_count": 106,
   "id": "aaad1ec8",
   "metadata": {},
   "outputs": [
    {
     "name": "stdout",
     "output_type": "stream",
     "text": [
      "<class 'bool'>\n",
      "\n",
      "operator ili: True\n",
      "operator i: False\n",
      "operator ne: False\n",
      "\n",
      "usporedivanje: True\n",
      "provjera jednakosti: False\n",
      "\n",
      "pretvaranje cijelih brojeva u bool:\n",
      "True\n",
      "True\n",
      "False\n",
      "\n",
      "pretvaranje stringova u bool:\n",
      "True\n",
      "False\n",
      "\n",
      "pretvaranje boola u brojeve:\n",
      "1.0\n",
      "0\n"
     ]
    }
   ],
   "source": [
    "my_bool = True\n",
    "print(type(my_bool))\n",
    "\n",
    "print(\"\")\n",
    "print(\"operator ili:\", True or False)\n",
    "print(\"operator i:\", True and False)\n",
    "print(\"operator ne:\", not True)\n",
    "\n",
    "print(\"\")\n",
    "print(\"usporedivanje:\", 2 < 3)\n",
    "print(\"provjera jednakosti:\", 'a' == 'b')\n",
    "\n",
    "print(\"\")\n",
    "print(\"pretvaranje cijelih brojeva u bool:\")\n",
    "print(bool(2))\n",
    "print(bool(-1))\n",
    "print(bool(0))\n",
    "\n",
    "print(\"\")\n",
    "print(\"pretvaranje stringova u bool:\")\n",
    "print(bool('aaa'))\n",
    "print(bool(''))\n",
    "\n",
    "print(\"\")\n",
    "print(\"pretvaranje boola u brojeve:\")\n",
    "print(float(True))\n",
    "print(int(False))"
   ]
  },
  {
   "cell_type": "markdown",
   "id": "71d8b28b",
   "metadata": {},
   "source": [
    "### Nizovni tipovi"
   ]
  },
  {
   "cell_type": "markdown",
   "id": "094220fc",
   "metadata": {},
   "source": [
    "#### Lista"
   ]
  },
  {
   "cell_type": "markdown",
   "id": "52fd04a8",
   "metadata": {},
   "source": [
    "Prvi nizovni tip o kojem ćemo pričati je `list`. Radi se o nizu podataka od kojih svaki ima svoj redni broj. Tipovi podataka elemenata niza ne moraju biti jednaki (iako će najčešće biti), a sami podaci se mogu ponavljati unutar liste. Definiramo ih kao podatke odvojene zarezima unutar uglatih zagrada, a pristup podacima, podnizovima, broju elemenata liste radi se slično kao i kod stringova."
   ]
  },
  {
   "cell_type": "code",
   "execution_count": 107,
   "id": "a1c7c661",
   "metadata": {},
   "outputs": [
    {
     "name": "stdout",
     "output_type": "stream",
     "text": [
      "3\n",
      "[2, 3, 6, 'evo i string']\n",
      "7\n"
     ]
    }
   ],
   "source": [
    "my_list = [1, 1, 2, 3, 6, 'evo i string', False]\n",
    "\n",
    "print(my_list[3])\n",
    "print(my_list[2:6])\n",
    "print(len(my_list))"
   ]
  },
  {
   "cell_type": "markdown",
   "id": "726aa73c",
   "metadata": {},
   "source": [
    "Možemo mijenjati elemente liste na razne načine:"
   ]
  },
  {
   "cell_type": "code",
   "execution_count": 108,
   "id": "9d8463a4",
   "metadata": {},
   "outputs": [
    {
     "name": "stdout",
     "output_type": "stream",
     "text": [
      "[1, 1, 2, 3, 5, 8, 13, 21, 34, 55, 89]\n"
     ]
    }
   ],
   "source": [
    "my_list[4] = 5\n",
    "my_list[5:7] = [13, 21]\n",
    "\n",
    "my_list.append(34)\n",
    "my_list.extend([55, 89])\n",
    "my_list.insert(5, 8) # Prvi parametar je pozicija, drugi je vrijednost\n",
    "print(my_list)"
   ]
  },
  {
   "cell_type": "markdown",
   "id": "7702044b",
   "metadata": {},
   "source": [
    "Kroz elemente iteriramo običnom for petljom:"
   ]
  },
  {
   "cell_type": "code",
   "execution_count": 109,
   "id": "eabc38aa",
   "metadata": {},
   "outputs": [
    {
     "name": "stdout",
     "output_type": "stream",
     "text": [
      "1 1 2 3 5 8 13 21 34 55 89 "
     ]
    }
   ],
   "source": [
    "for elem in my_list:\n",
    "    print(elem, end=\" \")"
   ]
  },
  {
   "cell_type": "markdown",
   "id": "73c17648",
   "metadata": {},
   "source": [
    "Provjeru nalazi li se ili ne neki broj u listi možemo napraviti operatorima `in` ili `not in` koji vraćaju boolean vrijednost:"
   ]
  },
  {
   "cell_type": "code",
   "execution_count": 110,
   "id": "945ffe48",
   "metadata": {},
   "outputs": [
    {
     "name": "stdout",
     "output_type": "stream",
     "text": [
      "55 se nalazi u listi!\n",
      "65 se ne nalazi u listi!\n"
     ]
    }
   ],
   "source": [
    "if 55 in my_list:\n",
    "    print(\"55 se nalazi u listi!\")\n",
    "    \n",
    "if 65 not in my_list:\n",
    "    print(\"65 se ne nalazi u listi!\")"
   ]
  },
  {
   "cell_type": "markdown",
   "id": "28f2dc1d",
   "metadata": {},
   "source": [
    "Elemente možemo ukloniti korištenjem funkcija `remove()`, `pop()` i `clear()`. `remove()` uklanja zadani element iz liste, `pop()` uklanja element na zadanom indeksu, ili posljednji element ako ne zadamo indeks, a `clear()` briše sve elemente iz liste."
   ]
  },
  {
   "cell_type": "code",
   "execution_count": 111,
   "id": "4708a9d6",
   "metadata": {},
   "outputs": [
    {
     "name": "stdout",
     "output_type": "stream",
     "text": [
      "['jabuka', 'naranca', 'sljiva', 'tresnja', 'visnja', 'marelica', 'breskva']\n",
      "['jabuka', 'naranca', 'tresnja', 'visnja', 'marelica']\n",
      "[]\n"
     ]
    }
   ],
   "source": [
    "my_list_fruit = ['jabuka', 'banana', 'naranca', 'sljiva', 'tresnja', 'visnja', 'marelica', 'breskva']\n",
    "\n",
    "my_list_fruit.remove('banana') # brise bananu\n",
    "print(my_list_fruit)\n",
    "\n",
    "my_list_fruit.pop() # brise breskvu\n",
    "my_list_fruit.pop(2) # brise sljivu\n",
    "\n",
    "print(my_list_fruit)\n",
    "\n",
    "my_list_fruit.clear() # brise sve sto je ostalo\n",
    "\n",
    "print(my_list_fruit)"
   ]
  },
  {
   "cell_type": "markdown",
   "id": "40012432",
   "metadata": {},
   "source": [
    "Recimo da želimo napraviti novu listu, koja sadrži kvadrate svih parnih brojeva iz liste `my_list`. To možemo napraviti na sljedeći način:"
   ]
  },
  {
   "cell_type": "code",
   "execution_count": 112,
   "id": "db1620d8",
   "metadata": {},
   "outputs": [
    {
     "name": "stdout",
     "output_type": "stream",
     "text": [
      "[4, 64, 1156]\n"
     ]
    }
   ],
   "source": [
    "even_nums_squared_1 = [] # prazna lista\n",
    "\n",
    "for elem in my_list:\n",
    "    if elem % 2 == 0: # ako je paran, odnosno nema ostatka pri dijeljenju s 2\n",
    "        even_nums_squared_1.append(elem * elem) # dodaj kvadrat tog broja u listu\n",
    "        \n",
    "print(even_nums_squared_1)"
   ]
  },
  {
   "cell_type": "markdown",
   "id": "be2e220d",
   "metadata": {},
   "source": [
    "Ovaj način je OK, međutim, postoji i jednostavniji način, a to je korištenjem tzv. *list comprehensiona*:"
   ]
  },
  {
   "cell_type": "code",
   "execution_count": 113,
   "id": "73eb9ae2",
   "metadata": {},
   "outputs": [
    {
     "name": "stdout",
     "output_type": "stream",
     "text": [
      "[4, 64, 1156]\n"
     ]
    }
   ],
   "source": [
    "even_nums_squared_2 = [elem * elem for elem in my_list if elem % 2 == 0]\n",
    "\n",
    "print(even_nums_squared_2)"
   ]
  },
  {
   "cell_type": "markdown",
   "id": "17607cd0",
   "metadata": {},
   "source": [
    "#### Tuple"
   ]
  },
  {
   "cell_type": "markdown",
   "id": "47d61dac",
   "metadata": {},
   "source": [
    "Sljedeći tip o kojem ćemo pričati je `tuple`. Tuple je sličan listi po tome što svaki element ima redni broj, može sadržavati duplikate, može sadržavati elemente različitih tipova, ali se razlikuje po tome što se njegove vrijednosti ne mogu mijenjati. Definira se kao popis vrijednosti odvojenih zarezom unutar oblih zagrada, a ostale operacije su slične kao kod lista. U sljedećem isječku koda pokazane su osnovne operacije s tim tipom."
   ]
  },
  {
   "cell_type": "code",
   "execution_count": 114,
   "id": "4b4d5e92",
   "metadata": {},
   "outputs": [
    {
     "name": "stdout",
     "output_type": "stream",
     "text": [
      "Ivan\n",
      "('Vlahov', 22)\n"
     ]
    }
   ],
   "source": [
    "# Recimo da spremamo vrijednosti ime, prezime, godine, polozio/nije polozio predmet Natjecateljsko programiranje\n",
    "my_tuple = ('Ivan', 'Vlahov', 22, True)\n",
    "\n",
    "print(my_tuple[0])\n",
    "print(my_tuple[1:3])"
   ]
  },
  {
   "cell_type": "markdown",
   "id": "fa5047ab",
   "metadata": {},
   "source": [
    "Kao što smo rekli, vrijednosti se ne mogu mijenjati:"
   ]
  },
  {
   "cell_type": "code",
   "execution_count": 115,
   "id": "a2f689be",
   "metadata": {},
   "outputs": [
    {
     "ename": "TypeError",
     "evalue": "'tuple' object does not support item assignment",
     "output_type": "error",
     "traceback": [
      "\u001b[0;31m---------------------------------------------------------------------------\u001b[0m",
      "\u001b[0;31mTypeError\u001b[0m                                 Traceback (most recent call last)",
      "\u001b[0;32m/tmp/ipykernel_263731/4126820398.py\u001b[0m in \u001b[0;36m<module>\u001b[0;34m\u001b[0m\n\u001b[0;32m----> 1\u001b[0;31m \u001b[0mmy_tuple\u001b[0m\u001b[0;34m[\u001b[0m\u001b[0;36m0\u001b[0m\u001b[0;34m]\u001b[0m \u001b[0;34m=\u001b[0m \u001b[0;34m'Ante'\u001b[0m\u001b[0;34m\u001b[0m\u001b[0;34m\u001b[0m\u001b[0m\n\u001b[0m",
      "\u001b[0;31mTypeError\u001b[0m: 'tuple' object does not support item assignment"
     ]
    }
   ],
   "source": [
    "my_tuple[0] = 'Ante'"
   ]
  },
  {
   "cell_type": "markdown",
   "id": "0cff57bf",
   "metadata": {},
   "source": [
    "Kroz elemente možemo iterirati kao i kod lista:"
   ]
  },
  {
   "cell_type": "code",
   "execution_count": 116,
   "id": "e90654d4",
   "metadata": {},
   "outputs": [
    {
     "name": "stdout",
     "output_type": "stream",
     "text": [
      "Ivan\n",
      "Vlahov\n",
      "22\n",
      "True\n"
     ]
    }
   ],
   "source": [
    "for elem in my_tuple:\n",
    "    print(elem)"
   ]
  },
  {
   "cell_type": "markdown",
   "id": "8a18d469",
   "metadata": {},
   "source": [
    "S tupleom možemo koristiti tzv. *unpacking* kako bismo njegove vrijednosti spremili u više varijabli:"
   ]
  },
  {
   "cell_type": "code",
   "execution_count": 117,
   "id": "751bff8f",
   "metadata": {},
   "outputs": [
    {
     "name": "stdout",
     "output_type": "stream",
     "text": [
      "Ivan ima 22 godine i polozio je Natjecateljsko programiranje\n"
     ]
    }
   ],
   "source": [
    "ime, prezime, godine, polozio = my_tuple\n",
    "\n",
    "print(ime, \"ima\", godine, \"godine i\", \"polozio je\" if polozio else \"nije polozio\", \"Natjecateljsko programiranje\")"
   ]
  },
  {
   "cell_type": "markdown",
   "id": "9524397f",
   "metadata": {},
   "source": [
    "#### Range"
   ]
  },
  {
   "cell_type": "markdown",
   "id": "750391b3",
   "metadata": {},
   "source": [
    "Range koristimo kad želimo napraviti nekakav aritmetički niz te iterirati po njemu. Npr. ako želimo ispisati brojeve od $0$ do $10$, to možemo napraviti sljedećim kodom:"
   ]
  },
  {
   "cell_type": "code",
   "execution_count": 118,
   "id": "a61c61aa",
   "metadata": {},
   "outputs": [
    {
     "name": "stdout",
     "output_type": "stream",
     "text": [
      "0 1 2 3 4 5 6 7 8 9 10 "
     ]
    }
   ],
   "source": [
    "for num in range(11):\n",
    "    print(num, end=\" \")"
   ]
  },
  {
   "cell_type": "markdown",
   "id": "8de270e8",
   "metadata": {},
   "source": [
    "Primijetite da smo za gornju granicu postavili $11$ - range ne uključuje gornju granicu.\n",
    "Možemo odrediti i donju granicu:"
   ]
  },
  {
   "cell_type": "code",
   "execution_count": 119,
   "id": "9dc350e7",
   "metadata": {},
   "outputs": [
    {
     "name": "stdout",
     "output_type": "stream",
     "text": [
      "3 4 5 6 7 8 9 "
     ]
    }
   ],
   "source": [
    "for num in range(3, 10):\n",
    "    print(num, end=\" \")"
   ]
  },
  {
   "cell_type": "markdown",
   "id": "41bbf540",
   "metadata": {},
   "source": [
    "Još jedan parametar koji možemo dati rangeu jest korak, odnosno razliku između dvije vrijednosti koje idu jedna za drugom:"
   ]
  },
  {
   "cell_type": "code",
   "execution_count": 120,
   "id": "d32de436",
   "metadata": {},
   "outputs": [
    {
     "name": "stdout",
     "output_type": "stream",
     "text": [
      "2 4 6 8 10 12 14 16 18 "
     ]
    }
   ],
   "source": [
    "for num in range(2, 20, 2):\n",
    "    print(num, end=\" \")"
   ]
  },
  {
   "cell_type": "markdown",
   "id": "f9da3c41",
   "metadata": {},
   "source": [
    "Pomoću tipa `range` možemo kreirati liste i druge tipove koji spremaju više elemenata:"
   ]
  },
  {
   "cell_type": "code",
   "execution_count": 121,
   "id": "e49faacb",
   "metadata": {},
   "outputs": [
    {
     "name": "stdout",
     "output_type": "stream",
     "text": [
      "[0, 1, 2, 3, 4, 5, 6, 7, 8, 9]\n",
      "(0, 1, 2, 3, 4, 5, 6, 7, 8, 9)\n"
     ]
    }
   ],
   "source": [
    "my_range_list = list(range(10))\n",
    "print(my_range_list)\n",
    "\n",
    "my_range_tuple = tuple(range(10))\n",
    "print(my_range_tuple)"
   ]
  },
  {
   "cell_type": "markdown",
   "id": "381f5831",
   "metadata": {},
   "source": [
    "U kombinaciji s *list comprehensionom*, možemo koristiti range za generiranje svakakvih lista:"
   ]
  },
  {
   "cell_type": "code",
   "execution_count": 122,
   "id": "f8afaebc",
   "metadata": {},
   "outputs": [
    {
     "name": "stdout",
     "output_type": "stream",
     "text": [
      "[[0, 1, 2, 3, 4], [5, 6, 7, 8, 9], [10, 11, 12, 13, 14], [15, 16, 17, 18, 19], [20, 21, 22, 23, 24]]\n",
      "[0, 1, 4, 9, 16, 25, 36, 49, 64, 81, 100, 121, 144, 169, 196]\n"
     ]
    }
   ],
   "source": [
    "my_2d_list = [[x*5+y for y in range(5)] for x in range(5)]\n",
    "print(my_2d_list)\n",
    "\n",
    "my_square_list = [x**2 for x in range(15)]\n",
    "print(my_square_list)"
   ]
  },
  {
   "cell_type": "markdown",
   "id": "4b967126",
   "metadata": {},
   "source": [
    "### Mapirajući tip"
   ]
  },
  {
   "cell_type": "markdown",
   "id": "97bc0cb3",
   "metadata": {},
   "source": [
    "#### Dictionary"
   ]
  },
  {
   "cell_type": "markdown",
   "id": "969eaa70",
   "metadata": {},
   "source": [
    "Tip `dict` je struktura u koju možemo spremati parove ključ-vrijednost. Ključevi su znakovni nizovi, a vrijednosti mogu biti bilo kojeg tipa. Elementima pristupamo imenovanjem ključa unutar uglatih zagrada, ili funkcijom `get()`. Podatke unutar dictionaryja možemo mijenjati, dodavati i brisati."
   ]
  },
  {
   "cell_type": "code",
   "execution_count": 123,
   "id": "762121c3",
   "metadata": {},
   "outputs": [
    {
     "name": "stdout",
     "output_type": "stream",
     "text": [
      "Ivan\n",
      "Vlahov\n",
      "{'ime': 'Pero', 'prezime': 'Vlahov', 'godine': 22, 'polozio': True, 'ocjena': 5}\n",
      "{'ime': 'Pero', 'prezime': 'Peric', 'godine': 23, 'polozio': False, 'ocjena': 1, 'godina': 2022}\n",
      "{'ime': 'Pero', 'prezime': 'Peric', 'godine': 23, 'polozio': False, 'ocjena': 1}\n",
      "{}\n"
     ]
    }
   ],
   "source": [
    "my_dict = {\n",
    "    \"ime\": \"Ivan\",\n",
    "    \"prezime\": \"Vlahov\",\n",
    "    \"godine\": 22,\n",
    "    \"polozio\": True\n",
    "}\n",
    "\n",
    "print(my_dict[\"ime\"])\n",
    "print(my_dict.get(\"prezime\"))\n",
    "\n",
    "my_dict[\"ime\"] = \"Pero\" # mijenjanje\n",
    "my_dict[\"ocjena\"] = 5 # dodavanje\n",
    "\n",
    "print(my_dict)\n",
    "\n",
    "my_dict_new = {\n",
    "    \"prezime\": \"Peric\",\n",
    "    \"godine\": 23,\n",
    "    \"polozio\": False,\n",
    "    \"ocjena\": 1,\n",
    "    \"godina\": 2022\n",
    "}\n",
    "\n",
    "my_dict.update(my_dict_new) # mijenjanje i dodavanje\n",
    "\n",
    "print(my_dict)\n",
    "\n",
    "my_dict.pop(\"godina\") # brisanje kljuca\n",
    "\n",
    "print(my_dict)\n",
    "\n",
    "my_dict.clear() # brisanje svih kljuceva\n",
    "\n",
    "print(my_dict)"
   ]
  },
  {
   "cell_type": "markdown",
   "id": "0aac0405",
   "metadata": {},
   "source": [
    "Iteriranje kroz dictionary se može raditi na više načina:"
   ]
  },
  {
   "cell_type": "code",
   "execution_count": 124,
   "id": "122bf53b",
   "metadata": {},
   "outputs": [
    {
     "name": "stdout",
     "output_type": "stream",
     "text": [
      "ime prezime visina masa boja_kose boja_ociju \n",
      "Pero Peric 185 80 smeda smeda \n",
      "ime -> Pero, prezime -> Peric, visina -> 185, masa -> 80, boja_kose -> smeda, boja_ociju -> smeda, "
     ]
    }
   ],
   "source": [
    "my_dict_2 = {\n",
    "    \"ime\": \"Pero\",\n",
    "    \"prezime\": \"Peric\",\n",
    "    \"visina\": 185,\n",
    "    \"masa\": 80,\n",
    "    \"boja_kose\": \"smeda\",\n",
    "    \"boja_ociju\": \"smeda\"\n",
    "}\n",
    "\n",
    "\n",
    "# Iteriranje kroz kljuceve\n",
    "for elem in my_dict_2:\n",
    "    print(elem, end=\" \")\n",
    "    \n",
    "print(\"\")\n",
    "\n",
    "# Iteriranje kroz vrijednosti\n",
    "for elem in my_dict_2.values():\n",
    "    print(elem, end=\" \")\n",
    "    \n",
    "print(\"\")\n",
    "\n",
    "# Iteriranje kroz parove kljuc-vrijednost\n",
    "for key, value in my_dict_2.items():\n",
    "    print(key, \"->\", value, end=\", \")"
   ]
  },
  {
   "cell_type": "markdown",
   "id": "b36283b5",
   "metadata": {},
   "source": [
    "### Skupovni tip"
   ]
  },
  {
   "cell_type": "markdown",
   "id": "55b09b7c",
   "metadata": {},
   "source": [
    "#### Set"
   ]
  },
  {
   "cell_type": "markdown",
   "id": "f264fbbc",
   "metadata": {},
   "source": [
    "Set je tip podataka u kojem elementi nemaju redni broj, a duplikati nisu dozvoljeni. Iako se možda na prvu ovo čini beskorisnim, `set` omogućava puno bržu provjeru nalazi li se neki element u njemu nego lista. Više o tome što \"puno brža provjera\" znači ćemo pričati u dijelu o asimptotskoj složenosti algoritama i veliko O notaciji. Definira se popisom vrijednosti odvojenih zarezom unutar vitičastih zagrada, a kroz elemente se iterira kao i kod liste. Zbog toga što elementi nemaju redni broj, ne možemo biti sigurni u poredak prilikom iteriranja, pa nemojte računati na neki specifičan poredak (npr. da su elementi sortirani uzlazno, kao u donjim primjerima)."
   ]
  },
  {
   "cell_type": "code",
   "execution_count": 125,
   "id": "75a1d13a",
   "metadata": {},
   "outputs": [
    {
     "name": "stdout",
     "output_type": "stream",
     "text": [
      "{1, 2, 3, 4, 5, 6, 7, 8}\n",
      "1 2 3 4 5 6 7 8 "
     ]
    }
   ],
   "source": [
    "my_set = {1, 3, 3, 4, 5, 6, 6, 2, 8, 7}\n",
    "\n",
    "print(my_set)\n",
    "\n",
    "for elem in my_set:\n",
    "    print(elem, end=\" \")"
   ]
  },
  {
   "cell_type": "markdown",
   "id": "fcdb6085",
   "metadata": {},
   "source": [
    "Elemente možemo dodati korištenjem funkcija `add()` i `update()`:"
   ]
  },
  {
   "cell_type": "code",
   "execution_count": 126,
   "id": "b3c4368e",
   "metadata": {},
   "outputs": [
    {
     "name": "stdout",
     "output_type": "stream",
     "text": [
      "{1, 2, 3, 4, 5, 6, 7, 8, 17, 19, 21, 23}\n"
     ]
    }
   ],
   "source": [
    "my_set.add(17)\n",
    "my_set.update([19, 21, 23])\n",
    "print(my_set)"
   ]
  },
  {
   "cell_type": "markdown",
   "id": "a71bdb2a",
   "metadata": {},
   "source": [
    "Elemente možemo uklanjati korištenjem funkcija `remove()`, `discard()` i `clear()`. Ako funkcijom `remove()` pokušamo ukloniti neki element koji nije u setu, dobit ćemo grešku, a ako isto pokušamo funkcijom `discard()`, nećemo dobiti grešku."
   ]
  },
  {
   "cell_type": "code",
   "execution_count": 127,
   "id": "8dd41192",
   "metadata": {},
   "outputs": [
    {
     "name": "stdout",
     "output_type": "stream",
     "text": [
      "{1, 2, 3, 4, 5, 6, 7, 8, 21, 23}\n",
      "set()\n"
     ]
    }
   ],
   "source": [
    "my_set.remove(17)\n",
    "# my_set.remove(25) - ovo ce izazvati grešku\n",
    "my_set.discard(19)\n",
    "my_set.discard(25) # ovo nece\n",
    "\n",
    "print(my_set)\n",
    "\n",
    "my_set.clear()\n",
    "\n",
    "print(my_set) # prazan set"
   ]
  },
  {
   "cell_type": "markdown",
   "id": "c3f24f61",
   "metadata": {},
   "source": [
    "Kako bismo pokazali razliku provjere nalazi li se neki element u listi i u setu, napravit ćemo listu i set sa $10000$ elemenata, te ćemo $10000$ puta provjeriti nalazi li se neki element u listi, pa u setu, i izmjeriti vrijeme potrebno za te operacije."
   ]
  },
  {
   "cell_type": "code",
   "execution_count": 128,
   "id": "53c6c5de",
   "metadata": {},
   "outputs": [
    {
     "name": "stdout",
     "output_type": "stream",
     "text": [
      "Vrijeme za listu: 0.6822857856750488\n",
      "Vrijeme za set: 0.0017285346984863281\n"
     ]
    }
   ],
   "source": [
    "import time\n",
    "\n",
    "# Provjera vremena za listu\n",
    "comparison_list = list(range(10000))\n",
    "cnt = 0\n",
    "\n",
    "start = time.time()\n",
    "for i in range(10000):\n",
    "    if i in comparison_list:\n",
    "        cnt += 1\n",
    "end = time.time()\n",
    "\n",
    "print(\"Vrijeme za listu:\", end - start)\n",
    "\n",
    "# Provjera vremena za set\n",
    "comparison_set = set(range(10000))\n",
    "cnt = 0\n",
    "\n",
    "start = time.time()\n",
    "for i in range(10000):\n",
    "    if i in comparison_set:\n",
    "        cnt += 1\n",
    "end = time.time()\n",
    "\n",
    "print(\"Vrijeme za set:\", end - start)"
   ]
  },
  {
   "cell_type": "markdown",
   "id": "c41f2a00",
   "metadata": {},
   "source": [
    "Vidimo da je set za ovaj primjer nekoliko stotina puta brži."
   ]
  }
 ],
 "metadata": {
  "kernelspec": {
   "display_name": "Python 3 (ipykernel)",
   "language": "python",
   "name": "python3"
  },
  "language_info": {
   "codemirror_mode": {
    "name": "ipython",
    "version": 3
   },
   "file_extension": ".py",
   "mimetype": "text/x-python",
   "name": "python",
   "nbconvert_exporter": "python",
   "pygments_lexer": "ipython3",
   "version": "3.8.12"
  }
 },
 "nbformat": 4,
 "nbformat_minor": 5
}
