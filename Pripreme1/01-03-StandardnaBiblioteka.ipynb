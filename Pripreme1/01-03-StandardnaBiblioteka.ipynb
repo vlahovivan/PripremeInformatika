{
 "cells": [
  {
   "cell_type": "markdown",
   "id": "ab92c9ff",
   "metadata": {},
   "source": [
    "# 1.3 Standardna biblioteka"
   ]
  },
  {
   "cell_type": "markdown",
   "id": "8c9318b2",
   "metadata": {},
   "source": [
    "U ovom poglavlju proći ćemo kroz neke module standardne Python biblioteke koje je potrebno znati kako ne biste \"otkrivali toplu vodu\", odnosno trošili nepotrebno vrijeme na pisanje koda koji je već netko napisao za vas. Dat ćemo isječke koda, a u komentarima u kodu će ukratko biti objašnjeno što radi koja funkcija.\n",
    "\n",
    "Na [ovom linku](https://docs.python.org/3/library/) možete pronaći cijelu dokumentaciju standardne biblioteke."
   ]
  },
  {
   "cell_type": "markdown",
   "id": "e0f9edc4",
   "metadata": {},
   "source": [
    "### Ugrađene funkcije"
   ]
  },
  {
   "cell_type": "markdown",
   "id": "16f1ea81",
   "metadata": {},
   "source": [
    "Ovo su funkcije koje su uvijek dostupne, odnosno za koje ne trebate *importati* ništa."
   ]
  },
  {
   "cell_type": "code",
   "execution_count": 1,
   "id": "cca39adb",
   "metadata": {},
   "outputs": [
    {
     "name": "stdout",
     "output_type": "stream",
     "text": [
      "all i any:\n",
      "False True\n"
     ]
    }
   ],
   "source": [
    "print(\"all i any:\")\n",
    "\n",
    "# Provjera jesu li svi ili ijedan element kolekcije jednaki True\n",
    "my_list = list(range(10))\n",
    "my_list_true_if_even = [x % 2 == 0 for x in my_list]\n",
    "print(all(my_list_true_if_even), any(my_list_true_if_even))"
   ]
  },
  {
   "cell_type": "code",
   "execution_count": 2,
   "id": "f44fafba",
   "metadata": {},
   "outputs": [
    {
     "name": "stdout",
     "output_type": "stream",
     "text": [
      "enumerate:\n",
      "0 -> 1, 1 -> 5, 2 -> 7, "
     ]
    }
   ],
   "source": [
    "print(\"enumerate:\")\n",
    "\n",
    "# Iteriranje kroz indeks i vrijednost liste\n",
    "for i, val in enumerate([1, 5, 7]):\n",
    "    print(i, \"->\", val, end=\", \")"
   ]
  },
  {
   "cell_type": "code",
   "execution_count": 3,
   "id": "f1a11841",
   "metadata": {},
   "outputs": [
    {
     "name": "stdout",
     "output_type": "stream",
     "text": [
      "zip:\n",
      "1 <-> 3, 5 <-> 4, 7 <-> 5, "
     ]
    }
   ],
   "source": [
    "print(\"zip:\")\n",
    "\n",
    "# Iteriranje kroz više lista odjednom\n",
    "for val_1, val_2 in zip([1, 5, 7], [3, 4, 5]):\n",
    "    print(val_1, \"<->\", val_2, end=\", \")"
   ]
  },
  {
   "cell_type": "code",
   "execution_count": 4,
   "id": "8e552093",
   "metadata": {},
   "outputs": [
    {
     "name": "stdout",
     "output_type": "stream",
     "text": [
      "filter i slican list compr.:\n",
      "[1, 3, 5, 7, 9]\n",
      "[1, 3, 5, 7, 9]\n"
     ]
    }
   ],
   "source": [
    "print(\"filter i slican list compr.:\")\n",
    "\n",
    "# Filtriranje, radi kolekciju elemenata koji zadovoljavaju neki uvjet\n",
    "print(list(filter(lambda x: x%2 != 0, my_list)))\n",
    "\n",
    "# filtriranje ima isti učinak kao sljedeći kod\n",
    "print([x for x in my_list if x%2 != 0])"
   ]
  },
  {
   "cell_type": "code",
   "execution_count": 5,
   "id": "398e88d7",
   "metadata": {},
   "outputs": [
    {
     "name": "stdout",
     "output_type": "stream",
     "text": [
      "map i slican list compr.:\n",
      "[0, 1, 4, 9, 16, 25, 36, 49, 64, 81]\n",
      "[0, 1, 4, 9, 16, 25, 36, 49, 64, 81]\n"
     ]
    }
   ],
   "source": [
    "print(\"map i slican list compr.:\")\n",
    "\n",
    "# Mapiranje, radi kolekciju primjenom neke funkcije na svaki element\n",
    "print(list(map(lambda x: x**2, my_list)))\n",
    "\n",
    "# mapiranje ima isti učinak kao sljedeći kod\n",
    "print([x**2 for x in my_list])"
   ]
  },
  {
   "cell_type": "code",
   "execution_count": 6,
   "id": "5a7b4bfb",
   "metadata": {},
   "outputs": [
    {
     "name": "stdout",
     "output_type": "stream",
     "text": [
      "min i max:\n",
      "0 9\n",
      "1 3\n"
     ]
    }
   ],
   "source": [
    "print(\"min i max:\")\n",
    "\n",
    "# Trazenje najmanje i najvece vrijednosti kolekcije \n",
    "# ili nekoliko argumenata\n",
    "print(min(my_list), max(my_list))\n",
    "print(min(1, 2, 3), max(1, 2, 3))"
   ]
  },
  {
   "cell_type": "code",
   "execution_count": 7,
   "id": "6f57ca90",
   "metadata": {},
   "outputs": [
    {
     "name": "stdout",
     "output_type": "stream",
     "text": [
      "sum:\n",
      "45\n"
     ]
    }
   ],
   "source": [
    "print(\"sum:\")\n",
    "\n",
    "# Traženje zbroja elemenata kolekcije\n",
    "print(sum(my_list))"
   ]
  },
  {
   "cell_type": "code",
   "execution_count": 8,
   "id": "0587adaf",
   "metadata": {},
   "outputs": [
    {
     "name": "stdout",
     "output_type": "stream",
     "text": [
      "abs:\n",
      "3.13 3.13\n"
     ]
    }
   ],
   "source": [
    "print(\"abs:\")\n",
    "\n",
    "# Apsolutna vrijednost broja\n",
    "print(abs(-3.13), abs(3.13))"
   ]
  },
  {
   "cell_type": "code",
   "execution_count": 9,
   "id": "5a206264",
   "metadata": {},
   "outputs": [
    {
     "name": "stdout",
     "output_type": "stream",
     "text": [
      "pow:\n",
      "125000\n",
      "125000\n",
      "14\n"
     ]
    }
   ],
   "source": [
    "print(\"pow:\")\n",
    "\n",
    "# Potenciranje\n",
    "print(pow(50, 3))\n",
    "\n",
    "# Isti učinak kao i sljedeći kod\n",
    "print(50 ** 3)\n",
    "\n",
    "# Ostatak pri dijeljenju neke potencije s nekim brojem\n",
    "# Ovo zna biti jako korisno na kombinatoričkim zadacima\n",
    "print(pow(50, 3, mod=37))"
   ]
  },
  {
   "cell_type": "code",
   "execution_count": 10,
   "id": "12ab54ef",
   "metadata": {},
   "outputs": [
    {
     "name": "stdout",
     "output_type": "stream",
     "text": [
      "round:\n",
      "3\n",
      "4\n",
      "4\n"
     ]
    }
   ],
   "source": [
    "print(\"round:\")\n",
    "\n",
    "# Zaokruživanje na najbliži cijeli broj\n",
    "print(round(3.14))\n",
    "print(round(3.50))\n",
    "print(round(3.57))"
   ]
  },
  {
   "cell_type": "code",
   "execution_count": 11,
   "id": "b402783f",
   "metadata": {},
   "outputs": [
    {
     "name": "stdout",
     "output_type": "stream",
     "text": [
      "sorted i reversed:\n",
      "[1, 2, 3, 4, 5]\n",
      "[1, 3, 2, 5, 4]\n",
      "[5, 4, 3, 2, 1]\n"
     ]
    }
   ],
   "source": [
    "print(\"sorted i reversed:\")\n",
    "\n",
    "# Sortira listu uzlazno, vraća novu listu\n",
    "my_unsorted_list = [1, 3, 2, 5, 4]\n",
    "print(sorted(my_unsorted_list))\n",
    "\n",
    "# Sorted ***ne mijenja*** originalnu listu, vraća novu listu\n",
    "# koja je napravljena uz pomoć originalne\n",
    "print(my_unsorted_list)\n",
    "my_sorted_list = sorted(my_unsorted_list)\n",
    "\n",
    "# Okreće listu naopako, vraća iterator, pa treba pretvoriti u listu\n",
    "print(list(reversed(my_sorted_list)))"
   ]
  },
  {
   "cell_type": "markdown",
   "id": "10233150",
   "metadata": {},
   "source": [
    "**Napomena/digresija:** Želimo li sortirati listu i promijeniti je odjednom, koristimo `sort()` funkciju liste."
   ]
  },
  {
   "cell_type": "code",
   "execution_count": 12,
   "id": "f6d2d764",
   "metadata": {},
   "outputs": [
    {
     "name": "stdout",
     "output_type": "stream",
     "text": [
      "[1, 2, 3, 4, 5, 6]\n",
      "[6, 5, 4, 3, 2, 1]\n",
      "[[0, 3], [1, 0], [1, 2], [2, 1]]\n",
      "[(0, 3), (1, 0), (1, 2), (2, 1)]\n",
      "[2, 4, 6, 1, 3, 5]\n"
     ]
    }
   ],
   "source": [
    "my_list_2 = [1, 3, 5, 2, 4, 6]\n",
    "\n",
    "# Uzlazno sortiranje\n",
    "my_list_2.sort()\n",
    "print(my_list_2)\n",
    "\n",
    "# Silazno sortiranje\n",
    "my_list_2.sort(reverse=True)\n",
    "print(my_list_2)\n",
    "\n",
    "# Sortiranje lista lista i lista tupleova\n",
    "my_list_list = [[1, 2], [0, 3], [1, 0], [2, 1]]\n",
    "my_list_list.sort()\n",
    "print(my_list_list)\n",
    "\n",
    "my_tuple_list = [(1, 2), (0, 3), (1, 0), (2, 1)]\n",
    "my_tuple_list.sort()\n",
    "print(my_tuple_list)\n",
    "\n",
    "# Sortiranje na temelju vlastitog kriterija\n",
    "my_list_2.sort(key=lambda x: (x%2, x))\n",
    "print(my_list_2)\n",
    "\n",
    "# Iste ove argumente (reverse i key) mozemo dati i funkciji sorted"
   ]
  },
  {
   "cell_type": "markdown",
   "id": "aae01600",
   "metadata": {},
   "source": [
    "Na [ovom linku](https://docs.python.org/3/library/functions.html) možete pronaći cijelu dokumentaciju ugrađenih funkcija."
   ]
  },
  {
   "cell_type": "markdown",
   "id": "1198f760",
   "metadata": {},
   "source": [
    "### `math` - Matematičke funkcije"
   ]
  },
  {
   "cell_type": "markdown",
   "id": "c5f87472",
   "metadata": {},
   "source": [
    "U ovom se modulu nalaze matematičke funkcije koje će vam često trebati pri rješavanju zadataka."
   ]
  },
  {
   "cell_type": "code",
   "execution_count": 13,
   "id": "9d8066a8",
   "metadata": {},
   "outputs": [],
   "source": [
    "import math\n",
    "# ili from math import *, pa ne treba pisati math. ispred svake funkcije\n",
    "# nije dobro to raditi jer se mogu neke druge funkcije ponistiti,\n",
    "# npr. ugrađeni pow gubite ako importate sve iz math\n",
    "# jos jedna opcija je da importate samo ono sto vam treba, npr.\n",
    "# from math import ceil, floor"
   ]
  },
  {
   "cell_type": "code",
   "execution_count": 14,
   "id": "ce77b69c",
   "metadata": {},
   "outputs": [
    {
     "name": "stdout",
     "output_type": "stream",
     "text": [
      "ceil:\n",
      "4\n",
      "\n",
      "floor:\n",
      "3\n"
     ]
    }
   ],
   "source": [
    "# Najmanji cijeli broj veci ili jednak zadanom broju\n",
    "\n",
    "print(\"ceil:\")\n",
    "print(math.ceil(3.12), end=\"\\n\\n\")\n",
    "\n",
    "# Najveci cijeli broj manji ili jednak zadanom broju\n",
    "\n",
    "print(\"floor:\")\n",
    "print(math.floor(3.12))\n"
   ]
  },
  {
   "cell_type": "code",
   "execution_count": 15,
   "id": "7796dd7a",
   "metadata": {},
   "outputs": [
    {
     "name": "stdout",
     "output_type": "stream",
     "text": [
      "gcd:\n",
      "3\n",
      "\n",
      "lcm:\n",
      "90\n"
     ]
    }
   ],
   "source": [
    "# Najveci zajednicki djelitelj dvaju brojeva\n",
    "\n",
    "print(\"gcd:\")\n",
    "print(math.gcd(18, 15), end=\"\\n\\n\")\n",
    "\n",
    "# Pomocu gcd-a mozemo izracunati i najmanji \n",
    "# zajednicki visekratnik (lcm)\n",
    "\n",
    "def lcm(a, b):\n",
    "    return a*b//math.gcd(a, b)\n",
    "\n",
    "print(\"lcm:\")\n",
    "print(lcm(18, 15))"
   ]
  },
  {
   "cell_type": "code",
   "execution_count": 16,
   "id": "d62e3a08",
   "metadata": {},
   "outputs": [
    {
     "name": "stdout",
     "output_type": "stream",
     "text": [
      "isclose:\n",
      "True\n"
     ]
    }
   ],
   "source": [
    "# Usporedba dvaju float brojeva, korisno zbog floating point gresaka\n",
    "\n",
    "print(\"isclose:\")\n",
    "print(math.isclose(0.2, 1/5))\n"
   ]
  },
  {
   "cell_type": "code",
   "execution_count": 17,
   "id": "a772c135",
   "metadata": {},
   "outputs": [
    {
     "name": "stdout",
     "output_type": "stream",
     "text": [
      "prod:\n",
      "90\n"
     ]
    }
   ],
   "source": [
    "# Umnozak svih elemenata kolekcije\n",
    "\n",
    "print(\"prod:\")\n",
    "print(math.prod([1, 3, 5, 6]))"
   ]
  },
  {
   "cell_type": "code",
   "execution_count": 18,
   "id": "faf3b7cb",
   "metadata": {},
   "outputs": [
    {
     "name": "stdout",
     "output_type": "stream",
     "text": [
      "sqrt:\n",
      "2.6457513110645907\n"
     ]
    }
   ],
   "source": [
    "# Korijen iz broja\n",
    "\n",
    "print(\"sqrt:\")\n",
    "print(math.sqrt(7))"
   ]
  },
  {
   "cell_type": "code",
   "execution_count": 19,
   "id": "61086d33",
   "metadata": {
    "scrolled": true
   },
   "outputs": [
    {
     "name": "stdout",
     "output_type": "stream",
     "text": [
      "pi:\n",
      "3.141592653589793\n",
      "\n",
      "sin:\n",
      "-1.0\n",
      "\n",
      "cos:\n",
      "-1.0\n",
      "\n",
      "tan:\n",
      "5443746451065123.0\n",
      "\n",
      "asin:\n",
      "0.7853981633974484\n",
      "\n",
      "acos:\n",
      "0.7853981633974483\n",
      "\n",
      "atan:\n",
      "1.0471975511965976\n",
      "\n",
      "atan2:\n",
      "0.5235987755982988\n",
      "\n",
      "degrees:\n",
      "270.0\n",
      "\n",
      "radians:\n",
      "4.71238898038469\n"
     ]
    }
   ],
   "source": [
    "# Trigonometrija\n",
    "\n",
    "# Pi\n",
    "\n",
    "print(\"pi:\")\n",
    "print(math.pi, end=\"\\n\\n\")\n",
    "\n",
    "# Ove funkcije su u radijanima!!!\n",
    "\n",
    "# Sinus\n",
    "\n",
    "print(\"sin:\")\n",
    "print(math.sin(math.pi*1.5), end=\"\\n\\n\")\n",
    "\n",
    "# Kosinus\n",
    "\n",
    "print(\"cos:\")\n",
    "print(math.cos(math.pi), end=\"\\n\\n\")\n",
    "\n",
    "# Tangens\n",
    "\n",
    "print(\"tan:\")\n",
    "print(math.tan(math.pi*1.5), end=\"\\n\\n\")\n",
    "\n",
    "# Arkus sinus\n",
    "\n",
    "print(\"asin:\")\n",
    "print(math.asin(math.sqrt(2)/2), end=\"\\n\\n\")\n",
    "\n",
    "# Arkus kosinus\n",
    "\n",
    "print(\"acos:\")\n",
    "print(math.acos(math.sqrt(2)/2), end=\"\\n\\n\")\n",
    "\n",
    "# Arkus tangens\n",
    "\n",
    "print(\"atan:\")\n",
    "print(math.atan(math.sqrt(3)), end=\"\\n\\n\")\n",
    "\n",
    "# Arkus tangens kao razlomak\n",
    "\n",
    "print(\"atan2:\")\n",
    "print(math.atan2(math.sqrt(3), 3), end=\"\\n\\n\")\n",
    "\n",
    "\n",
    "# Pretvorba iz radijana u stupnjeve\n",
    "\n",
    "print(\"degrees:\")\n",
    "print(math.degrees(math.pi*1.5), end=\"\\n\\n\")\n",
    "\n",
    "# Pretvorba iz stupnjeva u radijane\n",
    "\n",
    "print(\"radians:\")\n",
    "print(math.radians(270))"
   ]
  },
  {
   "cell_type": "markdown",
   "id": "5cfbd1fd",
   "metadata": {},
   "source": [
    "Na [ovom linku](https://docs.python.org/3/library/math.html) možete pronaći cijelu dokumentaciju ovog modula."
   ]
  },
  {
   "cell_type": "markdown",
   "id": "c68b3cd9",
   "metadata": {},
   "source": [
    "### `itertools` - Alati za iteriranje"
   ]
  },
  {
   "cell_type": "markdown",
   "id": "a83ffb22",
   "metadata": {},
   "source": [
    "U ovom modulu nalaze se funkcije korisne za stvaranje kombinacija, permutacija, alata za rad s iteratorima i sl."
   ]
  },
  {
   "cell_type": "code",
   "execution_count": 20,
   "id": "f21fee33",
   "metadata": {},
   "outputs": [],
   "source": [
    "import itertools\n",
    "\n",
    "my_iter_list = [1, 3, 4, 5, 7]"
   ]
  },
  {
   "cell_type": "code",
   "execution_count": 21,
   "id": "4d3e7624",
   "metadata": {},
   "outputs": [
    {
     "name": "stdout",
     "output_type": "stream",
     "text": [
      "[1, 4, 8, 13, 20]\n",
      "[1, 4, 20, 120, 960]\n"
     ]
    }
   ],
   "source": [
    "# Accumulate - zbroj elemenata do tog mjesta\n",
    "print(list(itertools.accumulate(my_iter_list)))\n",
    "\n",
    "# može se kao argument dati i neka druga funkcija\n",
    "print(list(itertools.accumulate(my_iter_list, func=(lambda prefix, x: prefix*(x+1)))))"
   ]
  },
  {
   "cell_type": "code",
   "execution_count": 22,
   "id": "238d3a57",
   "metadata": {},
   "outputs": [
    {
     "name": "stdout",
     "output_type": "stream",
     "text": [
      "(1, 1), (1, 3), (1, 4), (1, 5), (1, 7), (3, 1), (3, 3), (3, 4), (3, 5), (3, 7), (4, 1), (4, 3), (4, 4), (4, 5), (4, 7), (5, 1), (5, 3), (5, 4), (5, 5), (5, 7), (7, 1), (7, 3), (7, 4), (7, 5), (7, 7), \n",
      "\n",
      "(1, 1), (1, 3), (1, 4), (1, 5), (1, 7), (3, 1), (3, 3), (3, 4), (3, 5), (3, 7), (4, 1), (4, 3), (4, 4), (4, 5), (4, 7), (5, 1), (5, 3), (5, 4), (5, 5), (5, 7), (7, 1), (7, 3), (7, 4), (7, 5), (7, 7), "
     ]
    }
   ],
   "source": [
    "# Product - Kartezijev umnozak kolekcije sa samom sobom *repeat* puta\n",
    "\n",
    "for i, j in itertools.product(my_iter_list, repeat=2):\n",
    "    print((i, j), end=', ')\n",
    "    \n",
    "print(\"\\n\")\n",
    "\n",
    "# Praktički isto kao\n",
    "for i in my_iter_list:\n",
    "    for j in my_iter_list:\n",
    "        print((i, j), end=', ')\n",
    "    \n",
    "# Jednostavnije je koristiti product nego nekoliko \n",
    "# ugnijezdenih for petlji\n"
   ]
  },
  {
   "cell_type": "code",
   "execution_count": 23,
   "id": "eb4a7a29",
   "metadata": {},
   "outputs": [
    {
     "name": "stdout",
     "output_type": "stream",
     "text": [
      "(1, 3), (1, 4), (1, 5), (1, 7), (3, 1), (3, 4), (3, 5), (3, 7), (4, 1), (4, 3), (4, 5), (4, 7), (5, 1), (5, 3), (5, 4), (5, 7), (7, 1), (7, 3), (7, 4), (7, 5), \n",
      "\n",
      "(1, 3), (1, 4), (1, 5), (1, 7), (3, 1), (3, 4), (3, 5), (3, 7), (4, 1), (4, 3), (4, 5), (4, 7), (5, 1), (5, 3), (5, 4), (5, 7), (7, 1), (7, 3), (7, 4), (7, 5), "
     ]
    }
   ],
   "source": [
    "# Permutations - permutacije iz kolekcije duljine r\n",
    "# slicno kao product, samo bez ponavljanja\n",
    "\n",
    "for i in itertools.permutations(my_iter_list, r=2):\n",
    "    print(i, end=', ')\n",
    "    \n",
    "print(\"\\n\")\n",
    "\n",
    "# Praktički isto kao\n",
    "for i in my_iter_list:\n",
    "    for j in my_iter_list:\n",
    "        if i!=j:\n",
    "            print((i, j), end=', ')\n",
    "\n",
    "# Kao i kod product, jednostavnije je koristiti permutations\n",
    "# nego nekoliko ugnijezdenih petlji s nekoliko if-ova"
   ]
  },
  {
   "cell_type": "code",
   "execution_count": 24,
   "id": "083f0c7c",
   "metadata": {},
   "outputs": [
    {
     "name": "stdout",
     "output_type": "stream",
     "text": [
      "(1, 3), (1, 4), (1, 5), (1, 7), (3, 4), (3, 5), (3, 7), (4, 5), (4, 7), (5, 7), \n",
      "\n",
      "(1, 3), (1, 4), (1, 5), (1, 7), (3, 4), (3, 5), (3, 7), (4, 5), (4, 7), (5, 7), "
     ]
    }
   ],
   "source": [
    "# Combinations - slično kao permutacije, ali se npr. (1, 3) i (3, 1)\n",
    "# tretiraju kao ista vrijednost\n",
    "\n",
    "for i in itertools.combinations(my_iter_list, r=2):\n",
    "    print(i, end=', ')\n",
    "    \n",
    "print(\"\\n\")\n",
    "    \n",
    "# Praktički isto kao\n",
    "for i, val_i in enumerate(my_iter_list):\n",
    "    for j, val_j in enumerate(my_iter_list):\n",
    "        if(j>i):\n",
    "            print((val_i, val_j), end=', ')\n",
    "            \n",
    "# Opet ista stvar, lakše je koristiti combinations nego nekoliko\n",
    "# ugnijezdenih petlji i uvjeta"
   ]
  },
  {
   "cell_type": "markdown",
   "id": "5bfd5103",
   "metadata": {},
   "source": [
    "Na [ovom linku](https://docs.python.org/3/library/itertools.html) možete pronaći cijelu dokumentaciju ovog modula."
   ]
  }
 ],
 "metadata": {
  "kernelspec": {
   "display_name": "Python 3 (ipykernel)",
   "language": "python",
   "name": "python3"
  },
  "language_info": {
   "codemirror_mode": {
    "name": "ipython",
    "version": 3
   },
   "file_extension": ".py",
   "mimetype": "text/x-python",
   "name": "python",
   "nbconvert_exporter": "python",
   "pygments_lexer": "ipython3",
   "version": "3.8.12"
  }
 },
 "nbformat": 4,
 "nbformat_minor": 5
}
