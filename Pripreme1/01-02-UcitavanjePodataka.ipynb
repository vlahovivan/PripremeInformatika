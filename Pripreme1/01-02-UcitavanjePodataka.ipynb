{
 "cells": [
  {
   "cell_type": "markdown",
   "id": "98fb73f8",
   "metadata": {},
   "source": [
    "# 1.2 Učitavanje podataka"
   ]
  },
  {
   "cell_type": "markdown",
   "id": "3827d801",
   "metadata": {},
   "source": [
    "U svakom zadatku koji dobijete na natjecanjima od vas će se tražiti da s ulaza učitate neke podatke, nešto s njima napravite, te ispišete neki rezultat. U ovom poglavlju govorit ćemo o učitavanju različitih tipova podataka.\n",
    "\n",
    "U ispisima sljedećih isječaka koda, ulazni podaci će biti odvojeni crticama od izlaznih podataka."
   ]
  },
  {
   "cell_type": "markdown",
   "id": "11206aef",
   "metadata": {},
   "source": [
    "### Jedan znakovni niz"
   ]
  },
  {
   "cell_type": "markdown",
   "id": "842107d9",
   "metadata": {},
   "source": [
    "Učitavanje jednog znakovnog niza, odnosno stringa je najjednostavnije, učitavamo niz korištenjem funkcije `input()`."
   ]
  },
  {
   "cell_type": "code",
   "execution_count": 24,
   "id": "509c10f5",
   "metadata": {},
   "outputs": [
    {
     "name": "stdout",
     "output_type": "stream",
     "text": [
      "ABCDE\n",
      "-------------\n",
      "my_str: ABCDE\n"
     ]
    }
   ],
   "source": [
    "my_str = input()\n",
    "print(\"-------------\")\n",
    "\n",
    "print(\"my_str:\", my_str)"
   ]
  },
  {
   "cell_type": "markdown",
   "id": "f99b8589",
   "metadata": {},
   "source": [
    "### Jedan broj"
   ]
  },
  {
   "cell_type": "markdown",
   "id": "4b5ea03c",
   "metadata": {},
   "source": [
    "Često prije učitavanja znakovnog niza trebamo učitati njegovu duljinu. Kao što smo već rekli u poglavlju o tipovima podataka, `input()` vraća objekt tipa `str`, tako da je za učitavanje broja potrebno pretvoriti u `int` ili `float` ono što učitamo sa standardnog ulaza."
   ]
  },
  {
   "cell_type": "code",
   "execution_count": 25,
   "id": "ddeee8db",
   "metadata": {},
   "outputs": [
    {
     "name": "stdout",
     "output_type": "stream",
     "text": [
      "147\n",
      "-------------\n",
      "my_int: 147\n"
     ]
    }
   ],
   "source": [
    "my_int = int(input())\n",
    "print(\"-------------\")\n",
    "\n",
    "print(\"my_int:\", my_int)"
   ]
  },
  {
   "cell_type": "markdown",
   "id": "4c99c2ec",
   "metadata": {},
   "source": [
    "### Više znakovnih nizova"
   ]
  },
  {
   "cell_type": "markdown",
   "id": "7eda9670",
   "metadata": {},
   "source": [
    "U zadacima gdje treba učitati više znakovnih nizova, na ulazu ćemo najčešće dobiti neke parametre $n$ i $m$ koji označavaju broj znakovnih nizova i duljinu svakog od njih. Za takve dvodimenzionalne ulaze možemo koristiti *list comprehension*."
   ]
  },
  {
   "cell_type": "code",
   "execution_count": 26,
   "id": "58dbe3cb",
   "metadata": {},
   "outputs": [
    {
     "name": "stdout",
     "output_type": "stream",
     "text": [
      "ABCD\n",
      "EFGH\n",
      "IJKL\n",
      "-------------\n",
      "['ABCD', 'EFGH', 'IJKL']\n"
     ]
    }
   ],
   "source": [
    "n = 3\n",
    "m = 4\n",
    "\n",
    "my_str_list = [input() for i in range(n)]\n",
    "print(\"-------------\")\n",
    "\n",
    "print(my_str_list)"
   ]
  },
  {
   "cell_type": "markdown",
   "id": "9a75e9a6",
   "metadata": {},
   "source": [
    "### Više brojeva u jednom redu (1D lista)"
   ]
  },
  {
   "cell_type": "markdown",
   "id": "dfc86b4b",
   "metadata": {},
   "source": [
    "Ako želimo učitati više brojeva iz jednog reda, morat ćemo prvo rastaviti ulazni string po razmacima, a zatim svaki od manjih stringova pretvoriti u broj. "
   ]
  },
  {
   "cell_type": "code",
   "execution_count": 27,
   "id": "35eac9cb",
   "metadata": {},
   "outputs": [
    {
     "name": "stdout",
     "output_type": "stream",
     "text": [
      "1 3 5 7 9\n",
      "-------------\n",
      "['1', '3', '5', '7', '9']\n",
      "[1, 3, 5, 7, 9]\n"
     ]
    }
   ],
   "source": [
    "my_line = input()\n",
    "print(\"-------------\")\n",
    "\n",
    "my_split_line = my_line.split()\n",
    "print(my_split_line)\n",
    "\n",
    "my_int_list = [int(x) for x in my_split_line]\n",
    "print(my_int_list)\n"
   ]
  },
  {
   "cell_type": "markdown",
   "id": "d49671a8",
   "metadata": {},
   "source": [
    "Kraće ovo možemo zapisati na sljedeći način:"
   ]
  },
  {
   "cell_type": "code",
   "execution_count": 28,
   "id": "7f61735a",
   "metadata": {},
   "outputs": [
    {
     "name": "stdout",
     "output_type": "stream",
     "text": [
      "1 3 5 7 9\n",
      "-------------\n",
      "[1, 3, 5, 7, 9]\n"
     ]
    }
   ],
   "source": [
    "my_int_list_shorter = [int(x) for x in input().split()]\n",
    "print(\"-------------\")\n",
    "\n",
    "print(my_int_list_shorter)"
   ]
  },
  {
   "cell_type": "markdown",
   "id": "f275f8b0",
   "metadata": {},
   "source": [
    "### Više brojeva u više redova (2D lista)"
   ]
  },
  {
   "cell_type": "markdown",
   "id": "51c8ff07",
   "metadata": {},
   "source": [
    "Slično kao i kod više znakovnih nizova, imat ćemo zadan neki $n$ i $m$ koji označavaju broj redova i broj brojeva u svakom redu. Možemo ih učitati na sljedeći način:"
   ]
  },
  {
   "cell_type": "code",
   "execution_count": 29,
   "id": "5092ada5",
   "metadata": {},
   "outputs": [
    {
     "name": "stdout",
     "output_type": "stream",
     "text": [
      "1 2 3 4\n",
      "3 4 5 6\n",
      "5 6 7 8\n",
      "-------------\n",
      "[[1, 2, 3, 4], [3, 4, 5, 6], [5, 6, 7, 8]]\n"
     ]
    }
   ],
   "source": [
    "n = 3\n",
    "m = 4\n",
    "\n",
    "my_int_2d_list = [[int(x) for x in input().split()] for i in range(n)]\n",
    "print(\"-------------\")\n",
    "\n",
    "print(my_int_2d_list)"
   ]
  },
  {
   "cell_type": "markdown",
   "id": "d6e10115",
   "metadata": {},
   "source": [
    "### Više brojeva u jednom redu (odvojene varijable)"
   ]
  },
  {
   "cell_type": "markdown",
   "id": "72dee26e",
   "metadata": {},
   "source": [
    "Ako brojevi koji su u istom redu nisu dio iste cjeline, nema smisla stavljati ih u istu listu - u tom slučaju možemo koristiti *unpacking* o kojem smo pričali u prošlom poglavlju."
   ]
  },
  {
   "cell_type": "code",
   "execution_count": 30,
   "id": "53abe092",
   "metadata": {},
   "outputs": [
    {
     "name": "stdout",
     "output_type": "stream",
     "text": [
      "10 30\n",
      "-------------\n",
      "my_int_var_1: 10 , my_int_var_2: 30\n"
     ]
    }
   ],
   "source": [
    "my_int_var_1, my_int_var_2 = [int(x) for x in input().split()]\n",
    "print(\"-------------\")\n",
    "\n",
    "print(\"my_int_var_1:\", my_int_var_1, \", my_int_var_2:\", my_int_var_2)"
   ]
  }
 ],
 "metadata": {
  "kernelspec": {
   "display_name": "Python 3 (ipykernel)",
   "language": "python",
   "name": "python3"
  },
  "language_info": {
   "codemirror_mode": {
    "name": "ipython",
    "version": 3
   },
   "file_extension": ".py",
   "mimetype": "text/x-python",
   "name": "python",
   "nbconvert_exporter": "python",
   "pygments_lexer": "ipython3",
   "version": "3.8.12"
  }
 },
 "nbformat": 4,
 "nbformat_minor": 5
}
